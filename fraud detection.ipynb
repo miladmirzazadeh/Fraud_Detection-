{
 "cells": [
  {
   "cell_type": "code",
   "execution_count": 7,
   "metadata": {},
   "outputs": [],
   "source": [
    "import numpy as np \n",
    "import pandas as pd "
   ]
  },
  {
   "cell_type": "code",
   "execution_count": 121,
   "metadata": {},
   "outputs": [],
   "source": [
    "scores_df = pd.read_excel(\"C:\\\\Users\\\\Milad Mizazadeh\\\\Desktop\\\\scores.xlsx\", index_col=0)\n",
    "scores_df = scores_df.iloc[1:, 0:9]\n",
    "questions_max_score = [27,3,5,5,5,5,15,15,15]\n",
    "\n",
    "class fraud():\n",
    "    final_similarity_table = []\n",
    "    final_fraud_df = pd.DataFrame([])"
   ]
  },
  {
   "cell_type": "code",
   "execution_count": 153,
   "metadata": {},
   "outputs": [],
   "source": [
    "def similarity(first_score, second_score, max_possible_score):\n",
    "    if first_score == max_possible_score:\n",
    "        return(0)\n",
    "    if abs(first_score - second_score) / max_possible_score <= 0.15:\n",
    "        return(1)\n",
    "    else : \n",
    "        return(0)"
   ]
  },
  {
   "cell_type": "code",
   "execution_count": 154,
   "metadata": {},
   "outputs": [],
   "source": [
    "def similarity_list(person_one_scores, person_two_scores):\n",
    "    similarity_list = []\n",
    "    for i in range(9):\n",
    "        num = similarity(person_one_scores[i], person_two_scores[i], questions_max_score[i])\n",
    "        similarity_list.append(num)\n",
    "    return(similarity_list)\n",
    "    \n",
    "        "
   ]
  },
  {
   "cell_type": "code",
   "execution_count": 156,
   "metadata": {},
   "outputs": [],
   "source": [
    "def find_all_similarities():\n",
    "    fraud.final_similarity_table = []\n",
    "    for first_person_num in range(len(scores_df.index)): \n",
    "        for second_person_num in range(first_person_num+1, len(scores_df.index)):\n",
    "            similarities = similarity_list(scores_df.iloc[first_person_num].values, scores_df.iloc[second_person_num].values)\n",
    "            row = [\"{}, {}\".format(scores_df.index[first_person_num], scores_df.index[second_person_num])]\n",
    "            row.extend(similarities)\n",
    "            row.append(np.sum(similarities))\n",
    "            fraud.final_similarity_table.append(row)\n"
   ]
  },
  {
   "cell_type": "code",
   "execution_count": 157,
   "metadata": {},
   "outputs": [],
   "source": [
    "find_all_similarities()\n",
    "fraud.final_fraud_df = pd.DataFrame(fraud.final_similarity_table)\n",
    "fraud.final_fraud_df = fraud.final_fraud_df.set_index(0)\n",
    "fraud.final_fraud_df = fraud.final_fraud_df.rename(columns={10:\"Number of Similar Answers\"})\n",
    "fraud.final_fraud_df.sort_values(by=[\"Number of Similar Answers\"], ascending=False, inplace=True)\n",
    "fraud.final_fraud_df.to_excel(\"C:\\\\Users\\\\Milad Mizazadeh\\\\Desktop\\\\similar_answers.xlsx\")\n",
    "\n"
   ]
  }
 ],
 "metadata": {
  "kernelspec": {
   "display_name": "Python 3",
   "language": "python",
   "name": "python3"
  },
  "language_info": {
   "codemirror_mode": {
    "name": "ipython",
    "version": 3
   },
   "file_extension": ".py",
   "mimetype": "text/x-python",
   "name": "python",
   "nbconvert_exporter": "python",
   "pygments_lexer": "ipython3",
   "version": "3.7.3"
  }
 },
 "nbformat": 4,
 "nbformat_minor": 2
}
